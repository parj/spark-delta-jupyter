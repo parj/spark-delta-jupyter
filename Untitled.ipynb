{
 "cells": [
  {
   "cell_type": "markdown",
   "id": "a9b6ddf2-9877-4443-9c6c-22e849986b56",
   "metadata": {},
   "source": [
    "## Pre-requisites for this\n",
    "\n",
    "Download the file -> https://raw.githubusercontent.com/parj/spark-delta-jupyter/main/docker-compose.yaml\n",
    "\n",
    "Run `docker-compose up -d`. This will start a 1-node spark cluster with a spark master, worker, thrift server and jupyterhub.\n",
    "\n",
    "NOTE: Ensure there are enough cores set in Docker settings (min. of 4)"
   ]
  },
  {
   "cell_type": "markdown",
   "id": "ffb79591-6d73-46fc-85e7-f12f8381a97d",
   "metadata": {},
   "source": [
    "## To connect to spark docker\n",
    "\n",
    "Run the following\n",
    "\n",
    "```python\n",
    "from pyspark.sql import SparkSession\n",
    "\n",
    "spark = SparkSession.builder \\\n",
    "        .appName(\"delta\") \\\n",
    "        .getOrCreate()\n",
    "```"
   ]
  },
  {
   "cell_type": "code",
   "execution_count": null,
   "id": "2eeae636-081b-4a56-ba81-ce58c5b4e509",
   "metadata": {},
   "outputs": [],
   "source": []
  }
 ],
 "metadata": {
  "kernelspec": {
   "display_name": "Spark (Docker)",
   "language": "python",
   "name": "pyspark"
  },
  "language_info": {
   "codemirror_mode": {
    "name": "ipython",
    "version": 3
   },
   "file_extension": ".py",
   "mimetype": "text/x-python",
   "name": "python",
   "nbconvert_exporter": "python",
   "pygments_lexer": "ipython3",
   "version": "3.11.1"
  }
 },
 "nbformat": 4,
 "nbformat_minor": 5
}
